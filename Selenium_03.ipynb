{
 "cells": [
  {
   "cell_type": "markdown",
   "metadata": {},
   "source": [
    "### Selenium course A"
   ]
  },
  {
   "cell_type": "markdown",
   "metadata": {},
   "source": [
    "https://youtu.be/j7VZsCCnptM"
   ]
  },
  {
   "cell_type": "markdown",
   "metadata": {},
   "source": [
    "### start Chrome Driver"
   ]
  },
  {
   "cell_type": "code",
   "execution_count": 84,
   "metadata": {},
   "outputs": [
    {
     "name": "stdout",
     "output_type": "stream",
     "text": [
      "\n"
     ]
    },
    {
     "name": "stderr",
     "output_type": "stream",
     "text": [
      "[WDM] - ====== WebDriver manager ======\n",
      "[WDM] - Current google-chrome version is 102.0.5005\n",
      "[WDM] - Get LATEST chromedriver version for 102.0.5005 google-chrome\n",
      "[WDM] - Driver [C:\\Users\\Frank\\.wdm\\drivers\\chromedriver\\win32\\102.0.5005.61\\chromedriver.exe] found in cache\n"
     ]
    }
   ],
   "source": [
    "from selenium import webdriver\n",
    "from selenium.webdriver.chrome.service import Service\n",
    "from webdriver_manager.chrome import ChromeDriverManager\n",
    "from selenium.webdriver.common.by import By\n",
    "from selenium.webdriver.support.ui import WebDriverWait\n",
    "from selenium.webdriver.support import expected_conditions as EC\n",
    "from selenium.webdriver.common.action_chains import ActionChains\n",
    "import time\n",
    "\n",
    "driver = webdriver.Chrome(service=Service(ChromeDriverManager().install()))"
   ]
  },
  {
   "cell_type": "markdown",
   "metadata": {},
   "source": [
    "### handling jquery ui download progress bar"
   ]
  },
  {
   "cell_type": "code",
   "execution_count": 85,
   "metadata": {},
   "outputs": [
    {
     "name": "stdout",
     "output_type": "stream",
     "text": [
      "Complete!\n"
     ]
    }
   ],
   "source": [
    "#https://jqueryui.com/resources/demos/progressbar/download.html\n",
    "#<button id=\"downloadButton\" class=\"ui-button ui-corner-all ui-widget\">Start Download</button>\n",
    "\n",
    "driver.get('https://jqueryui.com/resources/demos/progressbar/download.html')\n",
    "\n",
    "# set a wait time for all future element searches\n",
    "# if an element is already found, continue\n",
    "driver.implicitly_wait(30)\n",
    "\n",
    "button = driver.find_element(by=By.ID, value='downloadButton')\n",
    "button.click()\n",
    "\n",
    "# wait for maximum 30 sec till aan element with class name progress-label appears\n",
    "# that contains the text 'Complete!'\n",
    "WebDriverWait(driver, 30).until(\n",
    "    EC.text_to_be_present_in_element(\n",
    "        (By.CLASS_NAME, 'progress-label'),\n",
    "        'Complete!'\n",
    "    )\n",
    ")\n",
    "\n",
    "complete = driver.find_element(by=By.CLASS_NAME, value='progress-label')\n",
    "print(complete.text)\n"
   ]
  },
  {
   "cell_type": "markdown",
   "metadata": {},
   "source": [
    "### Field enter test"
   ]
  },
  {
   "cell_type": "code",
   "execution_count": 86,
   "metadata": {},
   "outputs": [],
   "source": [
    "driver.get('https://mdbootstrap.com/docs/standard/extended/registration/')\n",
    "\n",
    "section = driver.find_element(by=By.ID, value='section-basic-example')\n",
    "\n",
    "nameField = driver.find_element(by=By.ID, value='form3Example1c')\n",
    "emailField = driver.find_element(by=By.ID, value='form3Example3c')\n",
    "checkBox = section.find_element(by=By.ID, value='form2Example3c')\n",
    "\n",
    "nameField.send_keys('Fred Flintstone')\n",
    "emailField.send_keys('fredf@gmail.com')\n",
    "try:\n",
    "    checkBox.click()\n",
    "except:\n",
    "    # if checkBox is not ckickable because it's out of view, scroll to it first\n",
    "    checkBox.location_once_scrolled_into_view\n",
    "    checkBox.click()\n"
   ]
  },
  {
   "cell_type": "markdown",
   "metadata": {},
   "source": [
    "### finding elements by CSS selector"
   ]
  },
  {
   "cell_type": "markdown",
   "metadata": {},
   "source": [
    "https://www.w3schools.com/cssref/css_selectors.asp"
   ]
  },
  {
   "cell_type": "code",
   "execution_count": 87,
   "metadata": {},
   "outputs": [
    {
     "name": "stdout",
     "output_type": "stream",
     "text": [
      "46465b38-83ec-46ba-953e-0556bbaa197a\n",
      "46465b38-83ec-46ba-953e-0556bbaa197a\n"
     ]
    }
   ],
   "source": [
    "sectionb = driver.find_element(by=By.ID, value='section-6')\n",
    "checkBoxb = sectionb.find_element(by=By.ID, value='form2Example3c')\n",
    "print(checkBoxb.id)\n",
    "\n",
    "checkBoxc = sectionb.find_element(by=By.CSS_SELECTOR, value='input[id=\"form2Example3c\"]')\n",
    "print(checkBoxc.id)\n"
   ]
  },
  {
   "cell_type": "code",
   "execution_count": 88,
   "metadata": {},
   "outputs": [],
   "source": [
    "#time.sleep(5)\n",
    "#driver.quit()"
   ]
  }
 ],
 "metadata": {
  "interpreter": {
   "hash": "ff6dd4698a39df961d1afb5c97fe9b1dd59736bc2b94eb71202f5967d42a625f"
  },
  "kernelspec": {
   "display_name": "Python 3.9.7 ('base')",
   "language": "python",
   "name": "python3"
  },
  "language_info": {
   "codemirror_mode": {
    "name": "ipython",
    "version": 3
   },
   "file_extension": ".py",
   "mimetype": "text/x-python",
   "name": "python",
   "nbconvert_exporter": "python",
   "pygments_lexer": "ipython3",
   "version": "3.9.7"
  },
  "orig_nbformat": 4
 },
 "nbformat": 4,
 "nbformat_minor": 2
}

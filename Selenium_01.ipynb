{
 "cells": [
  {
   "cell_type": "markdown",
   "metadata": {},
   "source": [
    "### Selenium tutorial navigating website"
   ]
  },
  {
   "cell_type": "markdown",
   "metadata": {},
   "source": [
    "https://youtu.be/Xjv1sY630Uc"
   ]
  },
  {
   "cell_type": "markdown",
   "metadata": {},
   "source": [
    "### load page in driver"
   ]
  },
  {
   "cell_type": "code",
   "execution_count": 1,
   "metadata": {},
   "outputs": [
    {
     "name": "stdout",
     "output_type": "stream",
     "text": [
      "\n"
     ]
    },
    {
     "name": "stderr",
     "output_type": "stream",
     "text": [
      "[WDM] - ====== WebDriver manager ======\n",
      "[WDM] - Current google-chrome version is 102.0.5005\n",
      "[WDM] - Get LATEST chromedriver version for 102.0.5005 google-chrome\n",
      "[WDM] - Driver [C:\\Users\\Frank\\.wdm\\drivers\\chromedriver\\win32\\102.0.5005.61\\chromedriver.exe] found in cache\n"
     ]
    },
    {
     "name": "stdout",
     "output_type": "stream",
     "text": [
      "Tech With Tim - Python & Java Programming Tutorials - techwithtim.net\n"
     ]
    }
   ],
   "source": [
    "from selenium import webdriver\n",
    "from selenium.webdriver.chrome.service import Service\n",
    "from selenium.webdriver.common.by import By\n",
    "from selenium.webdriver.common.keys import Keys\n",
    "from selenium.webdriver.support.ui import WebDriverWait\n",
    "from selenium.webdriver.support import expected_conditions as EC\n",
    "from webdriver_manager.chrome import ChromeDriverManager\n",
    "import time\n",
    "\n",
    "driver = webdriver.Chrome(service=Service(ChromeDriverManager().install()))\n",
    "\n",
    "driver.get('https://techwithtim.net')\n",
    "print(driver.title)\n"
   ]
  },
  {
   "cell_type": "markdown",
   "metadata": {},
   "source": [
    "### find search field end do search on \"test\""
   ]
  },
  {
   "cell_type": "code",
   "execution_count": 2,
   "metadata": {},
   "outputs": [
    {
     "name": "stdout",
     "output_type": "stream",
     "text": [
      "input\n"
     ]
    }
   ],
   "source": [
    "#<input type=\"search\" class=\"search-field\" placeholder=\"Search …\" value=\"\" name=\"s\">\n",
    "search = driver.find_element(by=By.CLASS_NAME, value='search-field')\n",
    "print(search.tag_name)\n",
    "search.clear()\n",
    "search.send_keys(\"test\")\n",
    "#time.sleep(5)\n",
    "search.send_keys(Keys.RETURN)"
   ]
  },
  {
   "cell_type": "markdown",
   "metadata": {},
   "source": [
    "### insepect result page"
   ]
  },
  {
   "cell_type": "code",
   "execution_count": 3,
   "metadata": {},
   "outputs": [
    {
     "name": "stdout",
     "output_type": "stream",
     "text": [
      "HTTP Methods – GET & POST\n",
      "Adding Bootstrap & Template Inheritance\n",
      "HTML Templates\n",
      "A Basic Website\n",
      "Events by Day\n",
      "Date From Speech P2\n",
      "Getting Microphone Input\n",
      "MessageBoxes & Popup Windows\n",
      "ComboBoxes\n",
      "Images/QPixmap\n"
     ]
    }
   ],
   "source": [
    "try:\n",
    "    # wait max 10 sec or until element with ID \"main\" is found\n",
    "    WebDriverWait(driver, 10).until(\n",
    "        EC.presence_of_all_elements_located((By.ID, 'main'))\n",
    "    )\n",
    "except:\n",
    "    print('Element: \"main\" ID not found')\n",
    "    driver.quit()\n",
    "\n",
    "#print(driver.page_source)\n",
    "\n",
    "main = driver.find_element(by=By.ID, value='main')\n",
    "#print(main.text)\n",
    "\n",
    "articles = main.find_elements(by=By.TAG_NAME, value='article')\n",
    "for article in articles:\n",
    "    #summary = article.find_element(by=By.CLASS_NAME, value='entry-summary')\n",
    "    #print(summary.text)\n",
    "    header = article.find_element(by=By.TAG_NAME, value='a')\n",
    "    # header.text gives a blank for some reason\n",
    "    # both of following work\n",
    "    print(header.get_attribute('text'))\n",
    "    #print(header.get_attribute('innerHTML'))"
   ]
  },
  {
   "cell_type": "markdown",
   "metadata": {},
   "source": [
    "### reload same home page for next tutorial"
   ]
  },
  {
   "cell_type": "code",
   "execution_count": 4,
   "metadata": {},
   "outputs": [],
   "source": [
    "driver.get('https://techwithtim.net')"
   ]
  },
  {
   "cell_type": "markdown",
   "metadata": {},
   "source": [
    "### find link by link text and click on it"
   ]
  },
  {
   "cell_type": "code",
   "execution_count": 5,
   "metadata": {},
   "outputs": [],
   "source": [
    "link = driver.find_element(by=By.LINK_TEXT, value='Python Programming')\n",
    "#print(link.tag_name)\n",
    "link.click()\n",
    "#time.sleep(5)"
   ]
  },
  {
   "cell_type": "markdown",
   "metadata": {},
   "source": [
    "### find another link in new current page"
   ]
  },
  {
   "cell_type": "code",
   "execution_count": 6,
   "metadata": {},
   "outputs": [],
   "source": [
    "try:\n",
    "    WebDriverWait(driver, 10).until(\n",
    "        EC.presence_of_all_elements_located((By.LINK_TEXT, 'Beginner Python Tutorials'))\n",
    "    )\n",
    "except:\n",
    "    print('Element: \"Beginner Python Tutorials\" LINK_TEXT not found')\n",
    "    driver.quit()\n",
    "\n",
    "link = driver.find_element(by=By.LINK_TEXT, value='Beginner Python Tutorials')\n",
    "#print(link.tag_name)\n",
    "link.click()\n",
    "#time.sleep(5)"
   ]
  },
  {
   "cell_type": "markdown",
   "metadata": {},
   "source": [
    "### click on Get Started button in current page"
   ]
  },
  {
   "cell_type": "code",
   "execution_count": 7,
   "metadata": {},
   "outputs": [],
   "source": [
    "try:\n",
    "    WebDriverWait(driver, 10).until(\n",
    "        EC.presence_of_all_elements_located((By.ID, 'sow-button-19310003'))\n",
    "    )\n",
    "except:\n",
    "    print('Element: \"sow-button-19310003\" ID not found')\n",
    "    driver.quit()\n",
    "\n",
    "link = driver.find_element(by=By.ID, value='sow-button-19310003')\n",
    "#print(link.tag_name)\n",
    "link.click()\n",
    "time.sleep(5)"
   ]
  },
  {
   "cell_type": "markdown",
   "metadata": {},
   "source": [
    "### now we go back 3 clicks to go to main web site"
   ]
  },
  {
   "cell_type": "code",
   "execution_count": 8,
   "metadata": {},
   "outputs": [],
   "source": [
    "driver.back()\n",
    "driver.back()\n",
    "driver.back()\n",
    "time.sleep(5)"
   ]
  },
  {
   "cell_type": "markdown",
   "metadata": {},
   "source": [
    "### you can also go forward again"
   ]
  },
  {
   "cell_type": "code",
   "execution_count": 9,
   "metadata": {},
   "outputs": [],
   "source": [
    "driver.forward()\n",
    "driver.forward()\n",
    "time.sleep(5)"
   ]
  },
  {
   "cell_type": "markdown",
   "metadata": {},
   "source": [
    "### quit driver"
   ]
  },
  {
   "cell_type": "code",
   "execution_count": 10,
   "metadata": {},
   "outputs": [],
   "source": [
    "driver.quit()"
   ]
  }
 ],
 "metadata": {
  "interpreter": {
   "hash": "ff6dd4698a39df961d1afb5c97fe9b1dd59736bc2b94eb71202f5967d42a625f"
  },
  "kernelspec": {
   "display_name": "Python 3.9.7 ('base')",
   "language": "python",
   "name": "python3"
  },
  "language_info": {
   "codemirror_mode": {
    "name": "ipython",
    "version": 3
   },
   "file_extension": ".py",
   "mimetype": "text/x-python",
   "name": "python",
   "nbconvert_exporter": "python",
   "pygments_lexer": "ipython3",
   "version": "3.9.7"
  },
  "orig_nbformat": 4
 },
 "nbformat": 4,
 "nbformat_minor": 2
}

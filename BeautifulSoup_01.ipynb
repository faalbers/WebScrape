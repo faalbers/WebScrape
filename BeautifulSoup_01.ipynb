{
 "cells": [
  {
   "cell_type": "markdown",
   "metadata": {},
   "source": [
    "### Scraping examples"
   ]
  },
  {
   "cell_type": "markdown",
   "metadata": {},
   "source": [
    "https://youtu.be/7sFCOunKL_Y"
   ]
  },
  {
   "cell_type": "code",
   "execution_count": 10,
   "metadata": {},
   "outputs": [
    {
     "name": "stdout",
     "output_type": "stream",
     "text": [
      "200\n"
     ]
    }
   ],
   "source": [
    "import requests\n",
    "from bs4 import BeautifulSoup\n",
    "import json\n",
    "\n",
    "url = 'https://finance.yahoo.com/quote/AAPL'\n",
    "\n",
    "headers =  {'User-Agent': 'Mozilla/5.0 (Windows NT 10.0; Win64; x64) AppleWebKit/537.36 (KHTML, like Gecko) Chrome/102.0.5005.63 Safari/537.36'}\n",
    "r = requests.get(url, headers=headers)\n",
    "\n",
    "print(r.status_code)\n",
    "#print(r.text)\n"
   ]
  },
  {
   "cell_type": "markdown",
   "metadata": {},
   "source": [
    "### Bring site text into soup data"
   ]
  },
  {
   "cell_type": "code",
   "execution_count": 11,
   "metadata": {},
   "outputs": [],
   "source": [
    "soup = BeautifulSoup(r.text, 'html.parser')\n",
    "\n",
    "#print(soup.title.text)"
   ]
  },
  {
   "cell_type": "markdown",
   "metadata": {},
   "source": [
    "### Query parts in data you need"
   ]
  },
  {
   "cell_type": "markdown",
   "metadata": {},
   "source": [
    "#### Finding direct tags"
   ]
  },
  {
   "cell_type": "code",
   "execution_count": 12,
   "metadata": {},
   "outputs": [
    {
     "name": "stdout",
     "output_type": "stream",
     "text": [
      "145.38 -5.83\n"
     ]
    }
   ],
   "source": [
    "#<fin-streamer class=\"Fw(b) Fz(36px) Mb(-4px) D(ib)\" data-symbol=\"AAPL\" data-test=\"qsp-price\" data-field=\"regularMarketPrice\" data-trend=\"none\" data-pricehint=\"2\" value=\"151.21\" active=\"\">151.21</fin-streamer>\n",
    "price = soup.find('fin-streamer', {'class': 'Fw(b) Fz(36px) Mb(-4px) D(ib)'}).text\n",
    "\n",
    "#<fin-streamer class=\"Fw(500) Pstart(8px) Fz(24px)\" data-symbol=\"AAPL\" data-test=\"qsp-price-change\" data-field=\"regularMarketChange\" data-trend=\"txt\" data-pricehint=\"2\" value=\"2.5\" active=\"\"><span class=\"C($positiveColor)\">+2.50</span></fin-streamer>\n",
    "change = soup.find('fin-streamer', {'class': 'Fw(500) Pstart(8px) Fz(24px)'}).text\n",
    "\n",
    "print(price, change)"
   ]
  },
  {
   "cell_type": "markdown",
   "metadata": {},
   "source": [
    "#### Finding under sub tag"
   ]
  },
  {
   "cell_type": "code",
   "execution_count": 13,
   "metadata": {},
   "outputs": [
    {
     "name": "stdout",
     "output_type": "stream",
     "text": [
      "145.38 -5.83\n"
     ]
    }
   ],
   "source": [
    "#<div class=\"D(ib) Mend(20px)\"><fin-streamer class=\"Fw(b) Fz(36px) Mb(-4px) D(ib)\" data-symbol=\"DIS\" data-test=\"qsp-price\" data-field=\"regularMarketPrice\" data-trend=\"none\" data-pricehint=\"2\" value=\"110.87\" active=\"\">110.87</fin-streamer><fin-streamer class=\"Fw(500) Pstart(8px) Fz(24px)\" data-symbol=\"DIS\" data-test=\"qsp-price-change\" data-field=\"regularMarketChange\" data-trend=\"txt\" data-pricehint=\"2\" value=\"1.6800003\" active=\"\"><span class=\"C($positiveColor)\">+1.68</span></fin-streamer> <fin-streamer class=\"Fw(500) Pstart(8px) Fz(24px)\" data-symbol=\"DIS\" data-field=\"regularMarketChangePercent\" data-trend=\"txt\" data-pricehint=\"2\" data-template=\"({fmt})\" value=\"0.015386026\" active=\"\"><span class=\"C($positiveColor)\">(+1.54%)</span></fin-streamer><fin-streamer class=\"D(n)\" data-symbol=\"DIS\" changeev=\"regularTimeChange\" data-field=\"regularMarketTime\" data-trend=\"none\" value=\"\" active=\"true\"></fin-streamer><fin-streamer class=\"D(n)\" data-symbol=\"DIS\" changeev=\"marketState\" data-field=\"marketState\" data-trend=\"none\" value=\"\" active=\"true\"></fin-streamer><div id=\"quote-market-notice\" class=\"C($tertiaryColor) D(b) Fz(12px) Fw(n) Mstart(0)--mobpsm Mt(6px)--mobpsm Whs(n)\"><span>At close:  04:04PM EDT</span></div></div>\n",
    "streamers = soup.find('div', {'class': 'D(ib) Mend(20px)'}).find_all('fin-streamer')\n",
    "price = streamers[0].text\n",
    "change = streamers[1].text\n",
    "\n",
    "print(price, change)"
   ]
  },
  {
   "cell_type": "markdown",
   "metadata": {},
   "source": [
    "### Another way to get the sub tags"
   ]
  },
  {
   "cell_type": "code",
   "execution_count": 14,
   "metadata": {},
   "outputs": [
    {
     "name": "stdout",
     "output_type": "stream",
     "text": [
      "145.38 -5.83\n"
     ]
    }
   ],
   "source": [
    "datatag = soup.find('div', {'class': 'D(ib) Mend(20px)'})\n",
    "price = datatag.find('fin-streamer', {'class': 'Fw(b) Fz(36px) Mb(-4px) D(ib)'}).text\n",
    "change = datatag.find('fin-streamer', {'class': 'Fw(500) Pstart(8px) Fz(24px)'}).text\n",
    "\n",
    "print(price, change)"
   ]
  },
  {
   "cell_type": "markdown",
   "metadata": {},
   "source": [
    "### Put it all under function"
   ]
  },
  {
   "cell_type": "code",
   "execution_count": 15,
   "metadata": {},
   "outputs": [],
   "source": [
    "def getData(symbol):\n",
    "    print('Getting %s' % symbol)\n",
    "    url = f'https://finance.yahoo.com/quote/{symbol}'\n",
    "    headers =  {'User-Agent': 'Mozilla/5.0 (Windows NT 10.0; Win64; x64) AppleWebKit/537.36 (KHTML, like Gecko) Chrome/102.0.5005.63 Safari/537.36'}\n",
    "    r = requests.get(url, headers=headers)\n",
    "    soup = BeautifulSoup(r.text, 'html.parser')\n",
    "    streamers = soup.find('div', {'class': 'D(ib) Mend(20px)'}).find_all('fin-streamer')\n",
    "    stock = {\n",
    "        'symbol': symbol,\n",
    "        'price': streamers[0].text,\n",
    "        'change': streamers[1].text\n",
    "    }\n",
    "    return stock"
   ]
  },
  {
   "cell_type": "markdown",
   "metadata": {},
   "source": [
    "### Function usage"
   ]
  },
  {
   "cell_type": "code",
   "execution_count": 16,
   "metadata": {},
   "outputs": [
    {
     "name": "stdout",
     "output_type": "stream",
     "text": [
      "Getting DFDIX\n",
      "Getting PRGSX\n",
      "Getting ARGFX\n",
      "Getting SPAXX\n",
      "Getting VMFXX\n",
      "Getting VUSXX\n",
      "Getting VITAX\n",
      "Getting VBK\n",
      "Getting DIS\n",
      "Getting RYBHX\n"
     ]
    }
   ],
   "source": [
    "mystocks = {\n",
    "'ARGFX',\n",
    "'RYBHX',\n",
    "'PRGSX',\n",
    "'VMFXX',\n",
    "'VUSXX',\n",
    "'VITAX',\n",
    "'DFDIX',\n",
    "'DIS',\n",
    "'SPAXX',\n",
    "'VBK'}\n",
    "stockdata = []\n",
    "for mystock in mystocks:\n",
    "    stockdata.append(getData(mystock))\n"
   ]
  },
  {
   "cell_type": "markdown",
   "metadata": {},
   "source": [
    "### Output into JSON format"
   ]
  },
  {
   "cell_type": "code",
   "execution_count": 17,
   "metadata": {},
   "outputs": [],
   "source": [
    "with open('stockdata.json', 'w') as f:\n",
    "    json.dump(stockdata, f)"
   ]
  },
  {
   "cell_type": "markdown",
   "metadata": {},
   "source": [
    "### Trying with lxml instead of html"
   ]
  },
  {
   "cell_type": "code",
   "execution_count": 18,
   "metadata": {},
   "outputs": [
    {
     "data": {
      "text/plain": [
       "<fin-streamer active=\"\" class=\"Fw(b) Fz(36px) Mb(-4px) D(ib)\" data-field=\"regularMarketPrice\" data-pricehint=\"2\" data-symbol=\"AAPL\" data-test=\"qsp-price\" data-trend=\"none\" value=\"145.38\">145.38</fin-streamer>"
      ]
     },
     "execution_count": 18,
     "metadata": {},
     "output_type": "execute_result"
    }
   ],
   "source": [
    "web_content = BeautifulSoup(r.text, 'lxml')\n",
    "price = web_content.find('fin-streamer', {'class': 'Fw(b) Fz(36px) Mb(-4px) D(ib)'})\n",
    "price"
   ]
  }
 ],
 "metadata": {
  "interpreter": {
   "hash": "ff6dd4698a39df961d1afb5c97fe9b1dd59736bc2b94eb71202f5967d42a625f"
  },
  "kernelspec": {
   "display_name": "Python 3.9.7 ('base')",
   "language": "python",
   "name": "python3"
  },
  "language_info": {
   "codemirror_mode": {
    "name": "ipython",
    "version": 3
   },
   "file_extension": ".py",
   "mimetype": "text/x-python",
   "name": "python",
   "nbconvert_exporter": "python",
   "pygments_lexer": "ipython3",
   "version": "3.9.7"
  },
  "orig_nbformat": 4
 },
 "nbformat": 4,
 "nbformat_minor": 2
}

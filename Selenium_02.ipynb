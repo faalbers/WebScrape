{
 "cells": [
  {
   "cell_type": "markdown",
   "metadata": {},
   "source": [
    "### Selenium clicking tutorial"
   ]
  },
  {
   "cell_type": "markdown",
   "metadata": {},
   "source": [
    "https://youtu.be/OISEEL5eBqg"
   ]
  },
  {
   "cell_type": "code",
   "execution_count": 1,
   "metadata": {},
   "outputs": [
    {
     "name": "stdout",
     "output_type": "stream",
     "text": [
      "\n"
     ]
    },
    {
     "name": "stderr",
     "output_type": "stream",
     "text": [
      "[WDM] - ====== WebDriver manager ======\n",
      "[WDM] - Current google-chrome version is 102.0.5005\n",
      "[WDM] - Get LATEST chromedriver version for 102.0.5005 google-chrome\n",
      "[WDM] - Driver [C:\\Users\\Frank\\.wdm\\drivers\\chromedriver\\win32\\102.0.5005.61\\chromedriver.exe] found in cache\n"
     ]
    }
   ],
   "source": [
    "from selenium import webdriver\n",
    "from selenium.webdriver.chrome.service import Service\n",
    "from selenium.webdriver.common.by import By\n",
    "#from selenium.webdriver.common.keys import Keys\n",
    "from selenium.webdriver.support.ui import WebDriverWait\n",
    "from selenium.webdriver.support import expected_conditions as EC\n",
    "from selenium.webdriver.common.action_chains import ActionChains\n",
    "from webdriver_manager.chrome import ChromeDriverManager\n",
    "import time\n",
    "\n",
    "driver = webdriver.Chrome(service=Service(ChromeDriverManager().install()))\n",
    "\n",
    "driver.get('https://orteil.dashnet.org/cookieclicker')\n",
    "\n",
    "# wait 5 sec for loading screen\n",
    "driver.implicitly_wait(5)\n",
    "\n",
    "# click on English selection first\n",
    "english = driver.find_element(by=By.ID, value='langSelect-EN')\n",
    "english.click()\n",
    "\n",
    "try:\n",
    "    # wait max 10 sec or until element with ID \"bigCookie\" is found\n",
    "    WebDriverWait(driver, 10).until(\n",
    "        EC.presence_of_all_elements_located((By.ID, 'bigCookie'))\n",
    "    )\n",
    "except:\n",
    "    print('Element: \"bigCookie\" ID not found')\n",
    "    driver.quit()\n",
    "\n",
    "cookie = driver.find_element(by=By.ID, value='bigCookie')\n",
    "cookie_count = driver.find_element(by=By.ID, value='cookies')\n",
    "items = [driver.find_element(by=By.ID, value='productPrice'+str(i)) for i in range(1, -1, -1)]\n",
    "\n",
    "time.sleep(2)\n",
    "\n",
    "for i in range(1000):\n",
    "    cookie.click()\n",
    "    time.sleep(0.1)\n",
    "    count = int(cookie_count.text.split(' ')[0])\n",
    "    for item in items:\n",
    "        value = int(item.text)\n",
    "        if value <= count:\n",
    "            ActionChains(driver).move_to_element(item).click().perform()\n",
    "            time.sleep(0.1)\n",
    "\n",
    "\n",
    "time.sleep(5)"
   ]
  },
  {
   "cell_type": "markdown",
   "metadata": {},
   "source": [
    "### quit driver"
   ]
  },
  {
   "cell_type": "code",
   "execution_count": 2,
   "metadata": {},
   "outputs": [],
   "source": [
    "driver.quit()"
   ]
  }
 ],
 "metadata": {
  "interpreter": {
   "hash": "ff6dd4698a39df961d1afb5c97fe9b1dd59736bc2b94eb71202f5967d42a625f"
  },
  "kernelspec": {
   "display_name": "Python 3.9.7 ('base')",
   "language": "python",
   "name": "python3"
  },
  "language_info": {
   "codemirror_mode": {
    "name": "ipython",
    "version": 3
   },
   "file_extension": ".py",
   "mimetype": "text/x-python",
   "name": "python",
   "nbconvert_exporter": "python",
   "pygments_lexer": "ipython3",
   "version": "3.9.7"
  },
  "orig_nbformat": 4
 },
 "nbformat": 4,
 "nbformat_minor": 2
}
